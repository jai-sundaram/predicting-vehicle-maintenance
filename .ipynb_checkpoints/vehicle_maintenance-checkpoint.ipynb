{
 "cells": [
  {
   "cell_type": "code",
   "execution_count": 143,
   "id": "9613e9d0-f8c4-4b5c-8322-6153052471ff",
   "metadata": {},
   "outputs": [],
   "source": [
    "import numpy as np\n",
    "import pandas as pd \n",
    "from sklearn.impute import SimpleImputer\n",
    "from sklearn.compose import ColumnTransformer\n",
    "from sklearn.preprocessing import OneHotEncoder"
   ]
  },
  {
   "cell_type": "code",
   "execution_count": 145,
   "id": "739c9308-27a9-4311-8d3a-8f8fce4defbd",
   "metadata": {},
   "outputs": [
    {
     "name": "stdout",
     "output_type": "stream",
     "text": [
      "Vehicle_Model                Bus\n",
      "Mileage                    68072\n",
      "Maintenance_History         Poor\n",
      "Reported_Issues                0\n",
      "Vehicle_Age                    2\n",
      "Fuel_Type               Electric\n",
      "Transmission_Type      Automatic\n",
      "Engine_Size                 1500\n",
      "Odometer_Reading           34022\n",
      "Owner_Type                 First\n",
      "Insurance_Premium          17979\n",
      "Service_History                7\n",
      "Accident_History               0\n",
      "Fuel_Efficiency        14.306302\n",
      "Tire_Condition               New\n",
      "Brake_Condition             Good\n",
      "Battery_Status              Weak\n",
      "service_year                2023\n",
      "service_month                  6\n",
      "service_day                   27\n",
      "expiry_year                 2025\n",
      "expiry_month                   4\n",
      "expiry_day                    27\n",
      "Need_Maintenance               1\n",
      "Name: 2, dtype: object\n"
     ]
    }
   ],
   "source": [
    "dataset = pd.read_csv(r\"C:\\Users\\jesun\\Desktop\\ML Project - Vehicle Maintenance Prediction\\predicting-vehicle-maintenance\\maintenance.csv\")\n",
    "dataset['Last_Service_Date'] = pd.to_datetime(dataset['Last_Service_Date'], format = \"mixed\")\n",
    "dataset['Warranty_Expiry_Date'] = pd.to_datetime(dataset['Warranty_Expiry_Date'], format = \"mixed\")\n",
    "dataset['service_year'] = dataset['Last_Service_Date'].dt.year\n",
    "dataset['service_month'] = dataset['Last_Service_Date'].dt.month\n",
    "dataset['service_day'] = dataset['Last_Service_Date'].dt.day\n",
    "dataset['expiry_year'] = dataset['Warranty_Expiry_Date'].dt.year\n",
    "dataset['expiry_month'] = dataset['Warranty_Expiry_Date'].dt.month\n",
    "dataset['expiry_day'] = dataset['Warranty_Expiry_Date'].dt.day\n",
    "dataset = dataset.drop(columns=['Last_Service_Date', 'Warranty_Expiry_Date'])\n",
    "dataset = dataset[['Vehicle_Model', 'Mileage', 'Maintenance_History', 'Reported_Issues', 'Vehicle_Age', 'Fuel_Type', 'Transmission_Type', 'Engine_Size', 'Odometer_Reading', 'Owner_Type', 'Insurance_Premium', 'Service_History', 'Accident_History',\n",
    "                   'Fuel_Efficiency', 'Tire_Condition', 'Brake_Condition', 'Battery_Status', 'service_year', 'service_month', 'service_day', 'expiry_year', 'expiry_month', 'expiry_day', 'Need_Maintenance']]\n",
    "X = dataset.iloc[:,:-1]\n",
    "y = dataset.iloc[:, -1]\n",
    "print(dataset.iloc[2,:])"
   ]
  },
  {
   "cell_type": "code",
   "execution_count": 105,
   "id": "c88188de-a99c-4451-ba93-9e83afd9a2d4",
   "metadata": {},
   "outputs": [
    {
     "name": "stdout",
     "output_type": "stream",
     "text": [
      "[1.0 0.0 0.0 0.0 0.0 0.0 0.0 0.0 1.0 0.0 1.0 0.0 1.0 0.0 0.0 0.0 0.0 0.0\n",
      " 0.0 0.0 1.0 0.0 0.0 0.0 0.0 0.0 1.0 0.0 1.0 1.0 0.0 68072 0 2 1500 34022\n",
      " 'First' 17979 0 14.306302358933324 'New' 'Good' 6 27 2025 4]\n"
     ]
    }
   ],
   "source": [
    "columnTransformer = ColumnTransformer(transformers = [('encoder', OneHotEncoder(), [0, 2, 5, 6, 11, 16, 17, 18])], remainder = \"passthrough\")\n",
    "X = np.array(columnTransformer.fit_transform(X))\n",
    "print(X[2,:])"
   ]
  },
  {
   "cell_type": "code",
   "execution_count": 22,
   "id": "5d6d0f64-8857-4d7d-a70a-b64e1a643ff5",
   "metadata": {},
   "outputs": [],
   "source": [
    "#imputer = SimpleImputer(missing_values=np.nan, strategy = 'mean')\n",
    "#imputer.fit(X)"
   ]
  },
  {
   "cell_type": "code",
   "execution_count": null,
   "id": "b35b0925-9666-4b93-abc1-d7ce0a5565dc",
   "metadata": {},
   "outputs": [],
   "source": []
  }
 ],
 "metadata": {
  "kernelspec": {
   "display_name": "Python 3 (ipykernel)",
   "language": "python",
   "name": "python3"
  },
  "language_info": {
   "codemirror_mode": {
    "name": "ipython",
    "version": 3
   },
   "file_extension": ".py",
   "mimetype": "text/x-python",
   "name": "python",
   "nbconvert_exporter": "python",
   "pygments_lexer": "ipython3",
   "version": "3.12.4"
  }
 },
 "nbformat": 4,
 "nbformat_minor": 5
}
