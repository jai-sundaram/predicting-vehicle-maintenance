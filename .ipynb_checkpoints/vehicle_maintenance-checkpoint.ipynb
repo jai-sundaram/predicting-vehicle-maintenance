{
 "cells": [
  {
   "cell_type": "code",
   "execution_count": 10,
   "id": "4700c0f1-c276-44ea-b25f-33a961d64a17",
   "metadata": {},
   "outputs": [
    {
     "name": "stdout",
     "output_type": "stream",
     "text": [
      "Collecting shap\n",
      "  Downloading shap-0.46.0-cp312-cp312-win_amd64.whl.metadata (25 kB)\n",
      "Requirement already satisfied: numpy in c:\\users\\jesun\\anaconda3\\lib\\site-packages (from shap) (1.26.4)\n",
      "Requirement already satisfied: scipy in c:\\users\\jesun\\anaconda3\\lib\\site-packages (from shap) (1.13.1)\n",
      "Requirement already satisfied: scikit-learn in c:\\users\\jesun\\anaconda3\\lib\\site-packages (from shap) (1.4.2)\n",
      "Requirement already satisfied: pandas in c:\\users\\jesun\\anaconda3\\lib\\site-packages (from shap) (2.2.2)\n",
      "Requirement already satisfied: tqdm>=4.27.0 in c:\\users\\jesun\\anaconda3\\lib\\site-packages (from shap) (4.66.4)\n",
      "Requirement already satisfied: packaging>20.9 in c:\\users\\jesun\\anaconda3\\lib\\site-packages (from shap) (23.2)\n",
      "Collecting slicer==0.0.8 (from shap)\n",
      "  Downloading slicer-0.0.8-py3-none-any.whl.metadata (4.0 kB)\n",
      "Requirement already satisfied: numba in c:\\users\\jesun\\anaconda3\\lib\\site-packages (from shap) (0.59.1)\n",
      "Requirement already satisfied: cloudpickle in c:\\users\\jesun\\anaconda3\\lib\\site-packages (from shap) (2.2.1)\n",
      "Requirement already satisfied: colorama in c:\\users\\jesun\\anaconda3\\lib\\site-packages (from tqdm>=4.27.0->shap) (0.4.6)\n",
      "Requirement already satisfied: llvmlite<0.43,>=0.42.0dev0 in c:\\users\\jesun\\anaconda3\\lib\\site-packages (from numba->shap) (0.42.0)\n",
      "Requirement already satisfied: python-dateutil>=2.8.2 in c:\\users\\jesun\\anaconda3\\lib\\site-packages (from pandas->shap) (2.9.0.post0)\n",
      "Requirement already satisfied: pytz>=2020.1 in c:\\users\\jesun\\anaconda3\\lib\\site-packages (from pandas->shap) (2024.1)\n",
      "Requirement already satisfied: tzdata>=2022.7 in c:\\users\\jesun\\anaconda3\\lib\\site-packages (from pandas->shap) (2023.3)\n",
      "Requirement already satisfied: joblib>=1.2.0 in c:\\users\\jesun\\anaconda3\\lib\\site-packages (from scikit-learn->shap) (1.4.2)\n",
      "Requirement already satisfied: threadpoolctl>=2.0.0 in c:\\users\\jesun\\anaconda3\\lib\\site-packages (from scikit-learn->shap) (2.2.0)\n",
      "Requirement already satisfied: six>=1.5 in c:\\users\\jesun\\anaconda3\\lib\\site-packages (from python-dateutil>=2.8.2->pandas->shap) (1.16.0)\n",
      "Downloading shap-0.46.0-cp312-cp312-win_amd64.whl (456 kB)\n",
      "   ---------------------------------------- 0.0/456.2 kB ? eta -:--:--\n",
      "   --------------------------------------- 456.2/456.2 kB 14.4 MB/s eta 0:00:00\n",
      "Downloading slicer-0.0.8-py3-none-any.whl (15 kB)\n",
      "Installing collected packages: slicer, shap\n",
      "Successfully installed shap-0.46.0 slicer-0.0.8\n"
     ]
    }
   ],
   "source": [
    "!pip install shap"
   ]
  },
  {
   "cell_type": "code",
   "execution_count": 77,
   "id": "9613e9d0-f8c4-4b5c-8322-6153052471ff",
   "metadata": {},
   "outputs": [],
   "source": [
    "import numpy as np\n",
    "import pandas as pd \n",
    "from sklearn.impute import SimpleImputer\n",
    "from sklearn.compose import ColumnTransformer\n",
    "from sklearn.preprocessing import OneHotEncoder\n",
    "from sklearn.model_selection import train_test_split \n",
    "from sklearn.ensemble import RandomForestClassifier\n",
    "from sklearn.metrics import confusion_matrix\n",
    "from sklearn.metrics import accuracy_score\n",
    "from imblearn.over_sampling import SMOTE \n",
    "from sklearn.metrics import classification_report\n",
    "from sklearn.model_selection import RandomizedSearchCV"
   ]
  },
  {
   "cell_type": "code",
   "execution_count": 79,
   "id": "739c9308-27a9-4311-8d3a-8f8fce4defbd",
   "metadata": {},
   "outputs": [
    {
     "name": "stdout",
     "output_type": "stream",
     "text": [
      "Vehicle_Model              Bus\n",
      "Mileage                  68072\n",
      "Reported_Issues              0\n",
      "Vehicle_Age                  2\n",
      "Fuel_Type             Electric\n",
      "Transmission_Type    Automatic\n",
      "Engine_Size               1500\n",
      "Odometer_Reading         34022\n",
      "Owner_Type               First\n",
      "Insurance_Premium        17979\n",
      "Service_History              7\n",
      "Accident_History             0\n",
      "Fuel_Efficiency      14.306302\n",
      "Tire_Condition             New\n",
      "Brake_Condition           Good\n",
      "Battery_Status            Weak\n",
      "service_year              2023\n",
      "service_month                6\n",
      "service_day                 27\n",
      "expiry_year               2025\n",
      "expiry_month                 4\n",
      "expiry_day                  27\n",
      "Name: 2, dtype: object\n"
     ]
    }
   ],
   "source": [
    "dataset = pd.read_csv(r\"C:\\Users\\jesun\\Desktop\\ML Project - Vehicle Maintenance Prediction\\predicting-vehicle-maintenance\\maintenance.csv\")\n",
    "dataset['Last_Service_Date'] = pd.to_datetime(dataset['Last_Service_Date'], format = \"mixed\")\n",
    "dataset['Warranty_Expiry_Date'] = pd.to_datetime(dataset['Warranty_Expiry_Date'], format = \"mixed\")\n",
    "dataset['service_year'] = dataset['Last_Service_Date'].dt.year\n",
    "dataset['service_month'] = dataset['Last_Service_Date'].dt.month\n",
    "dataset['service_day'] = dataset['Last_Service_Date'].dt.day\n",
    "dataset['expiry_year'] = dataset['Warranty_Expiry_Date'].dt.year\n",
    "dataset['expiry_month'] = dataset['Warranty_Expiry_Date'].dt.month\n",
    "dataset['expiry_day'] = dataset['Warranty_Expiry_Date'].dt.day\n",
    "dataset = dataset.drop(columns=['Last_Service_Date', 'Warranty_Expiry_Date'])\n",
    "dataset = dataset[['Vehicle_Model', 'Mileage', 'Reported_Issues', 'Vehicle_Age', 'Fuel_Type', 'Transmission_Type', 'Engine_Size', 'Odometer_Reading', 'Owner_Type', 'Insurance_Premium', 'Service_History', 'Accident_History',\n",
    "                   'Fuel_Efficiency', 'Tire_Condition', 'Brake_Condition', 'Battery_Status', 'service_year', 'service_month', 'service_day', 'expiry_year', 'expiry_month', 'expiry_day', 'Need_Maintenance']]\n",
    "X = dataset.iloc[:,:-1]\n",
    "print(X.iloc[2,:])\n",
    "y = dataset.iloc[:, -1]"
   ]
  },
  {
   "cell_type": "code",
   "execution_count": 81,
   "id": "c88188de-a99c-4451-ba93-9e83afd9a2d4",
   "metadata": {},
   "outputs": [
    {
     "name": "stdout",
     "output_type": "stream",
     "text": [
      "[1.00000000e+00 0.00000000e+00 0.00000000e+00 0.00000000e+00\n",
      " 0.00000000e+00 0.00000000e+00 0.00000000e+00 1.00000000e+00\n",
      " 0.00000000e+00 1.00000000e+00 0.00000000e+00 1.00000000e+00\n",
      " 0.00000000e+00 0.00000000e+00 0.00000000e+00 1.00000000e+00\n",
      " 0.00000000e+00 1.00000000e+00 0.00000000e+00 0.00000000e+00\n",
      " 0.00000000e+00 0.00000000e+00 1.00000000e+00 6.80720000e+04\n",
      " 0.00000000e+00 2.00000000e+00 1.50000000e+03 3.40220000e+04\n",
      " 1.79790000e+04 7.00000000e+00 0.00000000e+00 1.43063024e+01\n",
      " 2.02300000e+03 6.00000000e+00 2.70000000e+01 2.02500000e+03\n",
      " 4.00000000e+00 2.70000000e+01]\n"
     ]
    }
   ],
   "source": [
    "columnTransformer = ColumnTransformer(transformers = [('encoder', OneHotEncoder(), [0, 4, 5, 8, 13, 14, 15])], remainder = \"passthrough\")\n",
    "X = np.array(columnTransformer.fit_transform(X))\n",
    "print(X[2, :])"
   ]
  },
  {
   "cell_type": "code",
   "execution_count": 83,
   "id": "5d6d0f64-8857-4d7d-a70a-b64e1a643ff5",
   "metadata": {},
   "outputs": [],
   "source": [
    "imputer = SimpleImputer(missing_values=np.nan, strategy = 'mean')\n",
    "imputer.fit(X)\n",
    "X = imputer.transform(X)"
   ]
  },
  {
   "cell_type": "code",
   "execution_count": 85,
   "id": "b35b0925-9666-4b93-abc1-d7ce0a5565dc",
   "metadata": {},
   "outputs": [],
   "source": [
    "X_train, X_test, y_train, y_test = train_test_split(X, y, test_size = 0.2)"
   ]
  },
  {
   "cell_type": "code",
   "execution_count": 87,
   "id": "096318cd-c974-46ef-a955-82b310569350",
   "metadata": {},
   "outputs": [
    {
     "data": {
      "text/plain": [
       "Need_Maintenance\n",
       "0    32420\n",
       "1    32420\n",
       "Name: count, dtype: int64"
      ]
     },
     "execution_count": 87,
     "metadata": {},
     "output_type": "execute_result"
    }
   ],
   "source": [
    "sm = SMOTE(sampling_strategy = 'minority')\n",
    "X_train, y_train = sm.fit_resample(X_train, y_train)\n",
    "y_train.value_counts()"
   ]
  },
  {
   "cell_type": "code",
   "execution_count": null,
   "id": "7f4d3750-da21-433a-9f94-8d7809e15c5b",
   "metadata": {},
   "outputs": [],
   "source": [
    "grid = { \n",
    "    'n_estimators': [25, 50, 100, 150], \n",
    "    'max_features': ['sqrt', 'log2', None], \n",
    "    'max_depth': [3, 6, 9], \n",
    "    'max_leaf_nodes': [3, 6, 9], \n",
    "} \n",
    "gs = RandomizedSearchCV(RandomForestClassifier(), grid)\n",
    "gs.fit(X_train, y_train)\n",
    "print(gs.best_estimator_)"
   ]
  },
  {
   "cell_type": "code",
   "execution_count": null,
   "id": "31a5ef58-13ee-4c29-a9a9-6dd62b4c633a",
   "metadata": {},
   "outputs": [],
   "source": [
    "classifier = RandomForestClassifier()\n",
    "classifier.fit(X_train, y_train)\n",
    "y_pred = classifier.predict(X_test)\n",
    "report = classification_report(y_test, y_pred)\n",
    "print(report)"
   ]
  },
  {
   "cell_type": "code",
   "execution_count": null,
   "id": "ab8c0810-8585-4806-802c-0d663c5ebcea",
   "metadata": {},
   "outputs": [],
   "source": [
    "classifier = RandomForestClassifier(max_depth=6, max_features=None, max_leaf_nodes=9,\n",
    "                       n_estimators=25)\n",
    "classifier.fit(X_train, y_train)\n",
    "y_pred = classifier.predict(X_test)\n",
    "report = classification_report(y_test, y_pred)\n",
    "print(report)"
   ]
  },
  {
   "cell_type": "code",
   "execution_count": null,
   "id": "bbbe8776-218d-4664-9b24-9d647426869a",
   "metadata": {},
   "outputs": [],
   "source": []
  },
  {
   "cell_type": "code",
   "execution_count": null,
   "id": "14a73172-fa3f-4e31-896e-31ea188137da",
   "metadata": {},
   "outputs": [],
   "source": []
  }
 ],
 "metadata": {
  "kernelspec": {
   "display_name": "Python 3 (ipykernel)",
   "language": "python",
   "name": "python3"
  },
  "language_info": {
   "codemirror_mode": {
    "name": "ipython",
    "version": 3
   },
   "file_extension": ".py",
   "mimetype": "text/x-python",
   "name": "python",
   "nbconvert_exporter": "python",
   "pygments_lexer": "ipython3",
   "version": "3.12.4"
  }
 },
 "nbformat": 4,
 "nbformat_minor": 5
}
