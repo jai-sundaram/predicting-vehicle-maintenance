{
 "cells": [
  {
   "cell_type": "code",
   "execution_count": 1,
   "id": "9613e9d0-f8c4-4b5c-8322-6153052471ff",
   "metadata": {},
   "outputs": [],
   "source": [
    "import numpy as np\n",
    "import sklearn as sk\n",
    "import pandas as pd \n",
    "dataset = pd.read_csv(r\"C:\\Users\\jesun\\Desktop\\ML Project - Vehicle Maintenance Prediction\\predicting-vehicle-maintenance\\maintenance.csv\")"
   ]
  },
  {
   "cell_type": "code",
   "execution_count": null,
   "id": "739c9308-27a9-4311-8d3a-8f8fce4defbd",
   "metadata": {},
   "outputs": [],
   "source": []
  }
 ],
 "metadata": {
  "kernelspec": {
   "display_name": "Python 3 (ipykernel)",
   "language": "python",
   "name": "python3"
  },
  "language_info": {
   "codemirror_mode": {
    "name": "ipython",
    "version": 3
   },
   "file_extension": ".py",
   "mimetype": "text/x-python",
   "name": "python",
   "nbconvert_exporter": "python",
   "pygments_lexer": "ipython3",
   "version": "3.12.4"
  }
 },
 "nbformat": 4,
 "nbformat_minor": 5
}
