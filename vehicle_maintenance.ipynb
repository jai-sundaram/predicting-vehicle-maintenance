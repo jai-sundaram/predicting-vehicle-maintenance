{
 "cells": [
  {
   "cell_type": "code",
   "execution_count": 33,
   "id": "9613e9d0-f8c4-4b5c-8322-6153052471ff",
   "metadata": {},
   "outputs": [],
   "source": [
    "import numpy as np\n",
    "import pandas as pd \n",
    "from sklearn.impute import SimpleImputer\n",
    "from sklearn.compose import ColumnTransformer\n",
    "from sklearn.preprocessing import OneHotEncoder\n",
    "from sklearn.model_selection import train_test_split \n",
    "from sklearn.ensemble import RandomForestClassifier\n",
    "from sklearn.metrics import confusion_matrix\n",
    "from sklearn.metrics import accuracy_score\n",
    "from imblearn.over_sampling import SMOTE "
   ]
  },
  {
   "cell_type": "code",
   "execution_count": 35,
   "id": "739c9308-27a9-4311-8d3a-8f8fce4defbd",
   "metadata": {},
   "outputs": [],
   "source": [
    "dataset = pd.read_csv(r\"C:\\Users\\jesun\\Desktop\\ML Project - Vehicle Maintenance Prediction\\predicting-vehicle-maintenance\\maintenance.csv\")\n",
    "dataset['Last_Service_Date'] = pd.to_datetime(dataset['Last_Service_Date'], format = \"mixed\")\n",
    "dataset['Warranty_Expiry_Date'] = pd.to_datetime(dataset['Warranty_Expiry_Date'], format = \"mixed\")\n",
    "dataset['service_year'] = dataset['Last_Service_Date'].dt.year\n",
    "dataset['service_month'] = dataset['Last_Service_Date'].dt.month\n",
    "dataset['service_day'] = dataset['Last_Service_Date'].dt.day\n",
    "dataset['expiry_year'] = dataset['Warranty_Expiry_Date'].dt.year\n",
    "dataset['expiry_month'] = dataset['Warranty_Expiry_Date'].dt.month\n",
    "dataset['expiry_day'] = dataset['Warranty_Expiry_Date'].dt.day\n",
    "dataset = dataset.drop(columns=['Last_Service_Date', 'Warranty_Expiry_Date'])\n",
    "dataset = dataset[['Vehicle_Model', 'Mileage', 'Reported_Issues', 'Vehicle_Age', 'Fuel_Type', 'Transmission_Type', 'Engine_Size', 'Odometer_Reading', 'Owner_Type', 'Insurance_Premium', 'Service_History', 'Accident_History',\n",
    "                   'Fuel_Efficiency', 'service_year', 'service_month', 'service_day', 'expiry_year', 'expiry_month', 'expiry_day', 'Need_Maintenance']]\n",
    "X = dataset.iloc[:,:-1]\n",
    "y = dataset.iloc[:, -1]"
   ]
  },
  {
   "cell_type": "code",
   "execution_count": 36,
   "id": "c88188de-a99c-4451-ba93-9e83afd9a2d4",
   "metadata": {},
   "outputs": [
    {
     "name": "stdout",
     "output_type": "stream",
     "text": [
      "[1.00000000e+00 0.00000000e+00 0.00000000e+00 0.00000000e+00\n",
      " 0.00000000e+00 0.00000000e+00 0.00000000e+00 1.00000000e+00\n",
      " 0.00000000e+00 1.00000000e+00 0.00000000e+00 1.00000000e+00\n",
      " 0.00000000e+00 0.00000000e+00 6.80720000e+04 0.00000000e+00\n",
      " 2.00000000e+00 1.50000000e+03 3.40220000e+04 1.79790000e+04\n",
      " 7.00000000e+00 0.00000000e+00 1.43063024e+01 2.02300000e+03\n",
      " 6.00000000e+00 2.70000000e+01 2.02500000e+03 4.00000000e+00\n",
      " 2.70000000e+01]\n"
     ]
    }
   ],
   "source": [
    "columnTransformer = ColumnTransformer(transformers = [('encoder', OneHotEncoder(), [0, 4, 5, 8])], remainder = \"passthrough\")\n",
    "X = np.array(columnTransformer.fit_transform(X))\n",
    "print(X[2, :])"
   ]
  },
  {
   "cell_type": "code",
   "execution_count": 39,
   "id": "5d6d0f64-8857-4d7d-a70a-b64e1a643ff5",
   "metadata": {},
   "outputs": [],
   "source": [
    "imputer = SimpleImputer(missing_values=np.nan, strategy = 'mean')\n",
    "imputer.fit(X)\n",
    "X = imputer.transform(X)"
   ]
  },
  {
   "cell_type": "code",
   "execution_count": 41,
   "id": "b35b0925-9666-4b93-abc1-d7ce0a5565dc",
   "metadata": {},
   "outputs": [],
   "source": [
    "X_train, X_test, y_train, y_test = train_test_split(X, y, test_size = 0.2)"
   ]
  },
  {
   "cell_type": "code",
   "execution_count": 43,
   "id": "096318cd-c974-46ef-a955-82b310569350",
   "metadata": {},
   "outputs": [
    {
     "data": {
      "text/plain": [
       "Need_Maintenance\n",
       "0    32375\n",
       "1    32375\n",
       "Name: count, dtype: int64"
      ]
     },
     "execution_count": 43,
     "metadata": {},
     "output_type": "execute_result"
    }
   ],
   "source": [
    "sm = SMOTE(sampling_strategy = 'minority')\n",
    "X_train, y_train = sm.fit_resample(X_train, y_train)\n",
    "y_train.value_counts()"
   ]
  },
  {
   "cell_type": "code",
   "execution_count": 47,
   "id": "7f4d3750-da21-433a-9f94-8d7809e15c5b",
   "metadata": {},
   "outputs": [
    {
     "data": {
      "text/plain": [
       "0.8026"
      ]
     },
     "execution_count": 47,
     "metadata": {},
     "output_type": "execute_result"
    }
   ],
   "source": [
    "classifier = RandomForestClassifier(criterion = 'entropy')\n",
    "classifier.fit(X_train, y_train)\n",
    "y_pred = classifier.predict(X_test)\n",
    "c_matrix = confusion_matrix(y_pred, y_test)\n",
    "accuracy_score(y_pred, y_test)\n",
    "print(c_matrix)"
   ]
  },
  {
   "cell_type": "code",
   "execution_count": null,
   "id": "331d5aeb-90b7-4793-9daf-50fc41f805f7",
   "metadata": {},
   "outputs": [],
   "source": []
  }
 ],
 "metadata": {
  "kernelspec": {
   "display_name": "Python 3 (ipykernel)",
   "language": "python",
   "name": "python3"
  },
  "language_info": {
   "codemirror_mode": {
    "name": "ipython",
    "version": 3
   },
   "file_extension": ".py",
   "mimetype": "text/x-python",
   "name": "python",
   "nbconvert_exporter": "python",
   "pygments_lexer": "ipython3",
   "version": "3.12.4"
  }
 },
 "nbformat": 4,
 "nbformat_minor": 5
}
